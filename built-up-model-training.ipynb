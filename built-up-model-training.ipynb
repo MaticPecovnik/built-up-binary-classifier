{
 "cells": [
  {
   "cell_type": "markdown",
   "id": "c2acbed1-e5cc-46c5-9419-1b7c8018f9b6",
   "metadata": {},
   "source": [
    "# Binary classifier for built-up areas"
   ]
  },
  {
   "cell_type": "markdown",
   "id": "f7c6f337-38d9-49ea-8d8c-77fc2ed124eb",
   "metadata": {},
   "source": [
    "This notebook contains useful code snippets one can use if they want to replicate the procedure described in the Medium [blog post](https://medium.com/p/7f2d7114ed1c/) that showed how to train a binary classifier to identify built-up areas."
   ]
  },
  {
   "cell_type": "markdown",
   "id": "410bbe94-9176-42e3-bd52-af8273ab6ea0",
   "metadata": {},
   "source": [
    "### LineString geometry handling\n",
    "\n",
    "Roads in OSM data are represented as LineString geometries. These can range from short to several kilometers long. We cut these down to 100 meter lengths so they are more manageble. This can be done with the code below:"
   ]
  },
  {
   "cell_type": "code",
   "execution_count": 3,
   "id": "55d16e9c-31c3-42df-aa91-96bdf3bd8661",
   "metadata": {
    "execution": {
     "iopub.execute_input": "2022-02-07T08:46:07.842527Z",
     "iopub.status.busy": "2022-02-07T08:46:07.841992Z",
     "iopub.status.idle": "2022-02-07T08:46:07.859991Z",
     "shell.execute_reply": "2022-02-07T08:46:07.858004Z",
     "shell.execute_reply.started": "2022-02-07T08:46:07.842469Z"
    },
    "tags": []
   },
   "outputs": [],
   "source": [
    "from typing import List, Union\n",
    "\n",
    "from shapely.geometry import LineString, Point\n",
    "\n",
    "def cut(line: LineString, distance: Union[int, float], lines: List[LineString]):\n",
    "    \"\"\" \n",
    "    Cuts the provided 'line' in several segments at a 'distance' from its starting point.\n",
    "    The cut lines are appended to an existing List of LineString geometries.\n",
    "    \"\"\"\n",
    "    \n",
    "    if distance <= 0.0 or distance >= line.length:\n",
    "        return [LineString(line)]\n",
    "    \n",
    "    coords = list(line.coords)\n",
    "    for i, p in enumerate(coords):\n",
    "        pd = line.project(Point(p))\n",
    "        if pd == distance:\n",
    "            return [\n",
    "                LineString(coords[:i+1]),\n",
    "                LineString(coords[i:])\n",
    "            ]\n",
    "        if pd > distance:\n",
    "            cp = line.interpolate(distance)\n",
    "            lines.append(LineString(coords[:i] + [(cp.x, cp.y)]))\n",
    "            line = LineString([(cp.x, cp.y)] + coords[i:])\n",
    "            if line.length > distance:\n",
    "                cut(line, distance, lines)\n",
    "            else:\n",
    "                lines.append(LineString([(cp.x, cp.y)] + coords[i:]))\n",
    "            return lines"
   ]
  },
  {
   "cell_type": "markdown",
   "id": "3f901274-80b3-4ca8-975a-c469afc4a7e4",
   "metadata": {},
   "source": [
    "Things to note. For the `distance` one would like to cut the line to be in the units of meters, the lines have to be in the corresponding UTM CRS."
   ]
  },
  {
   "cell_type": "markdown",
   "id": "8aa43a6d-2a73-4ede-8d99-355af38f6773",
   "metadata": {},
   "source": [
    "## Parsing the LightGBM model\n",
    "\n",
    "The code below parses the decision trees which are part of the LightGBM model into string representations held insight a Javascript file. This can be used to later visualize large areas in [EO Browser](https://apps.sentinel-hub.com/eo-browser/)."
   ]
  },
  {
   "cell_type": "code",
   "execution_count": 4,
   "id": "2f424e6d-c503-416d-a18d-0564421b616f",
   "metadata": {
    "execution": {
     "iopub.execute_input": "2022-02-07T08:54:36.451889Z",
     "iopub.status.busy": "2022-02-07T08:54:36.451344Z",
     "iopub.status.idle": "2022-02-07T08:54:36.526144Z",
     "shell.execute_reply": "2022-02-07T08:54:36.524320Z",
     "shell.execute_reply.started": "2022-02-07T08:54:36.451828Z"
    }
   },
   "outputs": [],
   "source": [
    "import joblib\n",
    "\n",
    "### defining inputs and stringifying parameters\n",
    "\n",
    "PRECISION_SCORES = 4\n",
    "PRECISION_THRESHOLD = None\n",
    "\n",
    "MODEL_INPUTS = [] #specify your model inputs\n",
    "\n",
    "BANDS = ['B01', 'B02', 'B03', 'B04', 'B05', 'B06', 'B07', 'B08', 'B09', 'B11', 'B12']\n",
    "\n",
    "BANDS_STR = ','.join(BANDS)\n",
    "MODEL_INPUTS_STR = ', '.join(MODEL_INPUTS)\n",
    "\n",
    "### defining model parsing functions\n",
    "\n",
    "def parse_subtree(node,  model_inputs, brackets=True):\n",
    "    if 'leaf_index' in node:\n",
    "        score = float(node[\"leaf_value\"])\n",
    "        if PRECISION_SCORES is not None:\n",
    "            score = round(score, PRECISION_SCORES)\n",
    "        return f'{score}'\n",
    "    \n",
    "    feature = model_inputs[int(node[\"split_feature\"])]\n",
    "    \n",
    "    threshold = float(node[\"threshold\"])\n",
    "    if PRECISION_THRESHOLD is not None:\n",
    "        threshold = round(threshold, PRECISION_THRESHOLD)\n",
    "    \n",
    "    condition = f'{feature}{node[\"decision_type\"]}{threshold}'\n",
    "    \n",
    "    left = parse_subtree(node['left_child'], model_inputs)\n",
    "    right = parse_subtree(node['right_child'], model_inputs)\n",
    "    \n",
    "    result = f'({condition})?{left}:{right}'\n",
    "    if brackets:\n",
    "        return f'({result})'\n",
    "    return result\n",
    "\n",
    "\n",
    "def parse_one_tree(root, index, model_input_str, model_inputs):\n",
    "    return \\\n",
    "f\"\"\"\n",
    "function pt{index}({model_input_str}) {{ \n",
    "   return {parse_subtree(root, model_inputs, brackets=False)};\n",
    "}}\n",
    "\"\"\"\n",
    "\n",
    "\n",
    "def parse_trees(trees):\n",
    "    \n",
    "    tree_functions = '\\n'.join([parse_one_tree(tree['tree_structure'], idx, MODEL_INPUTS_STR, MODEL_INPUTS)\n",
    "                                  for idx, tree in enumerate(trees)])\n",
    "    function_sum = '+'.join([f'pt{i}({MODEL_INPUTS_STR})' for i in range(len(trees))])\n",
    "    \n",
    "    return f\"\"\"\n",
    "//VERSION=3\n",
    "function setup() {{\n",
    "    return {{\n",
    "        input: [{{\n",
    "            bands: [{','.join(f'\"{band}\"' for band in BANDS)}],\n",
    "            units: \"DN\"\n",
    "        }}],\n",
    "        output: {{\n",
    "            id:\"default\",\n",
    "            bands: 4,\n",
    "            sampleType: \"AUTO\"\n",
    "        }}\n",
    "    }}\n",
    "}}\n",
    "function evaluatePixel(sample) {{\n",
    "    // define the indices you need\n",
    "    let NDVI = (sample.B08 - sample.B04)/(sample.B08 + sample.B04)\n",
    "    let NDVI_RE1 = (sample.B08 - sample.B05)/(sample.B08 + sample.B05)\n",
    "    \n",
    "    ...\n",
    "    \n",
    "    let STI = sample.B11 / sample.B12\n",
    "    \n",
    "    // call the model. Keep in mind that DN have to be divided by 1.e4 to get the same values as the models so when training\n",
    "    let BLDG_PROBA = predict(sample.B01/1.e4, sample.B02/1.e4,..., STI)\n",
    "    \n",
    "    // make a mask of predictions\n",
    "    let BLDG_PROBA_080 = (BLDG_PROBA > 0.8) ? 1 : 0;\n",
    "    \n",
    "    // return a blue mask where the mask is used as a transparency layer. With minor modificaitons one can also return the probabilities themselves.\n",
    "    return [0, 0, 0, 0.4 * BLDG_PROBA_080]\n",
    "}}\n",
    "{tree_functions}\n",
    "function predict({MODEL_INPUTS_STR}) {{ \n",
    "    return [1/(1+Math.exp(-1*({function_sum})))];\n",
    "}}\n",
    "\"\"\"\n",
    "\n",
    "def parse_model(model, js_output_filename=None):\n",
    "    model_json = model.booster_.dump_model()\n",
    "\n",
    "    model_javascript = parse_trees(model_json['tree_info'])\n",
    "    \n",
    "    if js_output_filename:\n",
    "        with open(js_output_filename, 'w') as f:\n",
    "            f.write(model_javascript)\n",
    "        \n",
    "    return model_javascript"
   ]
  }
 ],
 "metadata": {
  "kernelspec": {
   "display_name": "Python 3",
   "language": "python",
   "name": "python3"
  },
  "language_info": {
   "codemirror_mode": {
    "name": "ipython",
    "version": 3
   },
   "file_extension": ".py",
   "mimetype": "text/x-python",
   "name": "python",
   "nbconvert_exporter": "python",
   "pygments_lexer": "ipython3",
   "version": "3.8.10"
  }
 },
 "nbformat": 4,
 "nbformat_minor": 5
}
